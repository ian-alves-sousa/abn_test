{
 "cells": [
  {
   "cell_type": "markdown",
   "metadata": {},
   "source": [
    "# 0.0 Resumo daos testes"
   ]
  },
  {
   "cell_type": "markdown",
   "metadata": {},
   "source": [
    "## 0.0.1 One Proportion Z-Test"
   ]
  },
  {
   "cell_type": "markdown",
   "metadata": {},
   "source": [
    "Motivo de uso: Provar se há uma diferença entre a média da amostra e da população. É preciso saber o desvio padrão da população.\n",
    "<br>Tipo dos dados: Contínuo\n",
    "<br>Exemplo: Média da altura de uma amostra de pessoas é igual ou diferente da média da altura da população?"
   ]
  },
  {
   "cell_type": "markdown",
   "metadata": {},
   "source": [
    "## 0.0.2 Two Proportion Z-Test"
   ]
  },
  {
   "cell_type": "markdown",
   "metadata": {},
   "source": [
    "Motivo de uso: Provar se há diferença entre duas proporções de amostras.\n",
    "<br>Tipo dos dados: Discreto, que é transformado em contínuo\n",
    "<br>Exemplo: Existe diferença entre o CTR da página nova com relação a página padrão?"
   ]
  },
  {
   "cell_type": "markdown",
   "metadata": {},
   "source": [
    "## 0.0.3 One-Way ANOVA"
   ]
  },
  {
   "cell_type": "markdown",
   "metadata": {},
   "source": [
    "Motivo de uso: Provar se um fator tem impacto na variável resposta. Usado com 3 ou mais grupos.\n",
    "<br>Tipo dos dados: Dados categóricos influenciam em dados numéricos\n",
    "<br>Exemplo: Qual tipo de desconto ajuda a melhorar as vendas?"
   ]
  },
  {
   "cell_type": "markdown",
   "metadata": {},
   "source": [
    "## 0.0.4 Two-Way ANOVA"
   ]
  },
  {
   "cell_type": "markdown",
   "metadata": {},
   "source": [
    "Motivo de uso: Provar se mais de um fator tem impacto na variável resposta. Usado com 3 ou mais grupos.\n",
    "<br>Tipo dos dados: Dados categóricos influenciam em dados numéricos\n",
    "<br>Exemplo: O tipo e a cor de um produto influenciam nas vendas?"
   ]
  },
  {
   "cell_type": "markdown",
   "metadata": {},
   "source": [
    "## 0.0.5 Chi-Squared Goodness of fit"
   ]
  },
  {
   "cell_type": "markdown",
   "metadata": {},
   "source": [
    "Motivo de uso: Provar se a variável segue uma distribuição hipotética.\n",
    "<br>Tipo dos dados: Discretos\n",
    "<br>Exemplo: A distribuição dada é condinzente com a distribuição hipotética?"
   ]
  },
  {
   "cell_type": "markdown",
   "metadata": {},
   "source": [
    "## 0.0.6 Chi-Squared Test of Independence"
   ]
  },
  {
   "cell_type": "markdown",
   "metadata": {},
   "source": [
    "Motivo de uso: Provar se duas variáveis tem associação, mas sem medir essa associação.\n",
    "<br>Tipo dos dados: Discretos\n",
    "<br>Exemplo: Mulheres tem uma maior tendência a votar no partido A?"
   ]
  },
  {
   "cell_type": "markdown",
   "metadata": {},
   "source": [
    "# 0.1 Imports"
   ]
  },
  {
   "cell_type": "code",
   "execution_count": 50,
   "metadata": {},
   "outputs": [],
   "source": [
    "import pandas as pd\n",
    "import numpy as np\n",
    "import math\n",
    "import scipy.stats as stats\n",
    "import seaborn as sns\n",
    "import statsmodels.api as sm\n",
    "import pylab as py\n",
    "from statsmodels.stats import api as sms\n",
    "from statsmodels.stats.gof import chisquare_effectsize\n",
    "from statsmodels.stats.power import GofChisquarePower,TTestIndPower\n",
    "from statsmodels.stats.proportion import proportions_ztest\n",
    "from scipy.stats import chi2_contingency\n",
    "from itertools import combinations\n",
    "from statsmodels.sandbox.stats.multicomp import multipletests\n",
    "from statsmodels.stats.weightstats import ztest\n",
    "from scipy.stats import f_oneway,bartlett,shapiro,kruskal\n",
    "from statsmodels.formula.api import ols"
   ]
  },
  {
   "cell_type": "markdown",
   "metadata": {},
   "source": [
    "# Exercícios"
   ]
  },
  {
   "cell_type": "markdown",
   "metadata": {},
   "source": [
    "# 1.0 Ads Click Through Rate\n",
    "Dois anúncios. Anúncio #1 tem 1000 impressões e 20 cliques. Enquanto o Anúncio #2 tem 900 impressões e 30 cliques.\n",
    "\n",
    "Teste se há diferença entre o CTR do Anúncio #01 e #02"
   ]
  },
  {
   "cell_type": "markdown",
   "metadata": {},
   "source": [
    "H0: pa = pb - O anúncio 1 tem o mesmo valor de CTR do que o anúncio 2<br>\n",
    "H1: pa <> pb - O anúncio 1 tem o valor de CTR diferente do anúncio 2"
   ]
  },
  {
   "cell_type": "code",
   "execution_count": 18,
   "metadata": {},
   "outputs": [
    {
     "name": "stdout",
     "output_type": "stream",
     "text": [
      "P-value: 0.06985234871449321\n",
      "Falha em rejeitar a hipótese nula\n",
      "Conclusão: Não há evidência suficiente de que o CTR do anúncio 1 não é igual ao anúncio 2\n"
     ]
    }
   ],
   "source": [
    "#Two Proportion Z-Test\n",
    "bult_sucess_A,bult_sample_A = 20,1000\n",
    "bult_sucess_B,bult_sample_B = 30,900\n",
    "\n",
    "sucess = np.array([bult_sucess_A,bult_sucess_B])\n",
    "samples = np.array([bult_sample_A,bult_sample_B])\n",
    "\n",
    "zscore,pvalue = proportions_ztest(count=sucess, nobs=samples, alternative='two-sided')\n",
    "print(f'P-value: {pvalue}')\n",
    "\n",
    "if pvalue <= 0.05:\n",
    "  print('Rejeita a hipótese nula')\n",
    "  print('Conclusão: Há evidência suficiente de que o CTR do anúncio 1 não é igual ao anúncio 2')\n",
    "else:\n",
    "  print('Falha em rejeitar a hipótese nula')\n",
    "  print('Conclusão: Não há evidência suficiente de que o CTR do anúncio 1 não é igual ao anúncio 2')"
   ]
  },
  {
   "cell_type": "markdown",
   "metadata": {},
   "source": [
    "# 2.0 Acme Toy Company\n",
    "A empresa Acme Toy imprime cartas de baseball. A empresa afirma que 30% das cartas são de novatos, 60% são de veteranos e 10% são All-Stars.\n",
    "\n",
    "Uma amostra aleatória de 100 cartas tem 50 cartas de novatos, 45 de veteranos e 5 All-Starts.\n",
    "\n",
    "A distribuição das cartas é consistente com a afirmação da empresa? Use um nível de significância de 0.05"
   ]
  },
  {
   "cell_type": "markdown",
   "metadata": {},
   "source": [
    "H0: A proporção de novatos, veteranos e All-Stars é de 30%, 60% e 10%, respectivamente.<br>\n",
    "H1: Pelo menos uma das proporções da hipótese anterior é falsa."
   ]
  },
  {
   "cell_type": "code",
   "execution_count": 21,
   "metadata": {},
   "outputs": [
    {
     "name": "stdout",
     "output_type": "stream",
     "text": [
      "P-value: 5.591562685637177e-05\n",
      "Rejeita a hipótese nula\n",
      "Conclusão: Há evidências suficiente que pelo menos uma das proporções da hipótese nula é falsa\n"
     ]
    }
   ],
   "source": [
    "#Chi-Squared Goodness of fit\n",
    "observed = [50,45,5]\n",
    "expected = [30,60,10]\n",
    "\n",
    "chiscore, pvalue = stats.chisquare(f_obs=observed, f_exp=expected)\n",
    "print(f'P-value: {pvalue}')\n",
    "\n",
    "if pvalue <= 0.05:\n",
    "  print('Rejeita a hipótese nula')\n",
    "  print('Conclusão: Há evidências suficiente que pelo menos uma das proporções da hipótese nula é falsa')\n",
    "else:\n",
    "  print('Falha em rejeitar a hipótese nula')\n",
    "  print('Conclusão: Não há evidências suficiente que pelo menos uma das proporções da hipótese nula é falsa')"
   ]
  },
  {
   "cell_type": "markdown",
   "metadata": {},
   "source": [
    "Condições para usar o Chi-squared:\n",
    "1. Variância: A variância das amostras precisam ser iguais\n",
    "    - Boxplot\n",
    "    - Teste\n",
    "    \n",
    "2. Normalidade: A população origem das amostras precisa ser normalmente distribuida\n",
    "    - Distribuição\n",
    "    - Q-Q Plot\n",
    "    - Shapiro-Wilk\n",
    "\n",
    "3. Independencia entre as amostras:\n",
    "    - Processo de escolha das amostras foi aleatório"
   ]
  },
  {
   "attachments": {
    "image.png": {
     "image/png": "[encoded data removed]"
    }
   },
   "cell_type": "markdown",
   "metadata": {},
   "source": [
    "# 3.0 Pesquisa Eleitoral\n",
    "Uma empresa de pesquisa perguntou a preferência de votos entre 1000 eleitores aleatórios, dividido entre homens e mulheres.\n",
    "\n",
    "O resultado é mostrado na tabela de contingência abaixo.\n",
    "\n",
    "![image.png](attachment:image.png)\n",
    "\n",
    "Existe uma diferença entre o eleitores de diferente gênero? As preferências dos homens se diferem significativamente das preferências das mulheres? Use um nível de significância de 0.05"
   ]
  },
  {
   "cell_type": "markdown",
   "metadata": {},
   "source": [
    "H0: Não há uma dependencia ou relação entre o gênero de uma pessoa e sua preferência por partidos<br>\n",
    "H1: Há uma dependência ou relação entre o gênero de uma pessoa e dua preferência por partidos."
   ]
  },
  {
   "cell_type": "code",
   "execution_count": 23,
   "metadata": {},
   "outputs": [
    {
     "name": "stdout",
     "output_type": "stream",
     "text": [
      "P-value: 0.0003029775487145488\n",
      "Rejeita a hipótese nula\n",
      "Conclusão: Há evidências suficiente para dizer que há uma dependência ou relação entre o gênero e a preferência partidaria das pessoas\n"
     ]
    }
   ],
   "source": [
    "#Chi-Squared Test of Independence\n",
    "table = [[200,150,50],[250,300,50]]\n",
    "\n",
    "chi_squared, pvalue, dof, expected = stats.chi2_contingency(table)\n",
    "print(f'P-value: {pvalue}')\n",
    "\n",
    "if pvalue <= 0.05:\n",
    "  print('Rejeita a hipótese nula')\n",
    "  print('Conclusão: Há evidências suficiente para dizer que há uma dependência ou relação entre o gênero e a preferência partidaria das pessoas')\n",
    "else:\n",
    "  print('Falha em rejeitar a hipótese nula')\n",
    "  print('Conclusão: Não há evidências suficiente para dizer que há uma dependência ou relação entre o gênero e a preferência partidaria das pessoas')"
   ]
  },
  {
   "cell_type": "markdown",
   "metadata": {},
   "source": [
    "# 4.0 Nota das Meninas\n",
    "Precisamos determinar se as meninas, na média, tiram uma nota maior do que 600 na prova. Nós temos a informação de que as meninas tem um desvio padrão de nota igual a 100.\n",
    "\n",
    "Então, nós coletamos dados de 20 meninas usando uma amostragem aleatória e armazenamos na lista abaixo.\n",
    "\n",
    "Podemos dizer que as meninas, em média, tiram notas maiores que 600? Assumindo um nível de significância de 0.05"
   ]
  },
  {
   "cell_type": "markdown",
   "metadata": {},
   "source": [
    "H0: A média das notas é igual a 600<br>\n",
    "H1: A média das notas é maior que 600"
   ]
  },
  {
   "cell_type": "code",
   "execution_count": 4,
   "metadata": {},
   "outputs": [
    {
     "name": "stdout",
     "output_type": "stream",
     "text": [
      "P-value: 0.03349471703839336\n",
      "Rejeita a hipótese nula\n",
      "Conclusão: Há evidências suficiente para dizer que a média de nota das meninas é maior que 600\n"
     ]
    }
   ],
   "source": [
    "#One Proportion Z-Test\n",
    "data = [650,730,510,670,480,800,690,530,590,620,710,670,640,780,650,490,800,600,510,700]\n",
    "\n",
    "#Amostra\n",
    "alpha = 0.05\n",
    "sample_avg = np.mean(data)\n",
    "sample_size = len(data)\n",
    "\n",
    "#população\n",
    "pop_avg = 600\n",
    "pop_std = 100\n",
    "\n",
    "#alternative é larger pois queremos saber se é maior que 600\n",
    "zscore,pvalue = ztest(data,value=pop_avg, alternative='larger')\n",
    "print(f'P-value: {pvalue}')\n",
    "\n",
    "if pvalue <= 0.05:\n",
    "  print('Rejeita a hipótese nula')\n",
    "  print('Conclusão: Há evidências suficiente para dizer que a média de nota das meninas é maior que 600')\n",
    "else:\n",
    "  print('Falha em rejeitar a hipótese nula')\n",
    "  print('Conclusão: Não há evidências suficiente para dizer que a média de nota das meninas é maior que 600')"
   ]
  },
  {
   "cell_type": "markdown",
   "metadata": {},
   "source": [
    "# 5.0 Entrega da farmácia\n",
    "Um farmácia afirma que a média do tempo de entrega dos medicamentos é menor do que 120 minutos com desvio padrão de 30 minutos.\n",
    "\n",
    "Foram selecionadas 49 entregas aleatória e o tempo médio dessas entregas foi de 100 minutos.\n",
    "\n",
    "Há evidências suficientes para confirmar a afirmação da farmácia com 0.05 de nível de significância?"
   ]
  },
  {
   "cell_type": "markdown",
   "metadata": {},
   "source": [
    "H0: O tempo de entrega dos medicamentos é igual a 120<br>\n",
    "H1: O tempo de entrega dos meticamentos é menor que 120"
   ]
  },
  {
   "cell_type": "code",
   "execution_count": 12,
   "metadata": {},
   "outputs": [
    {
     "name": "stdout",
     "output_type": "stream",
     "text": [
      "P-value: 4.6461546001318463e-07\n",
      "Rejeita a hipótese nula\n",
      "Conclusão: Há evidências suficiente para dizer que o tempo de entrega dos medicamentos é menor que 120 minutos\n"
     ]
    }
   ],
   "source": [
    "#One Proportion Z-Test\n",
    "\n",
    "#Amostra\n",
    "alpha = 0.05\n",
    "sample_avg = 100\n",
    "sample_size = 49\n",
    "\n",
    "#população\n",
    "pop_avg = 120\n",
    "pop_std = 30\n",
    "\n",
    "#Criando um dataset com dados aleatórios e os parâmetros que desejamos\n",
    "data = np.ceil(np.random.normal(loc=sample_avg, size=sample_size,scale=pop_std)).astype(int)\n",
    "\n",
    "#alternative é larger pois queremos saber se é maior que 600\n",
    "zscore,pvalue = ztest(data,value=pop_avg, alternative='smaller')\n",
    "print(f'P-value: {pvalue}')\n",
    "\n",
    "if pvalue <= 0.05:\n",
    "  print('Rejeita a hipótese nula')\n",
    "  print('Conclusão: Há evidências suficiente para dizer que o tempo de entrega dos medicamentos é menor que 120 minutos')\n",
    "else:\n",
    "  print('Falha em rejeitar a hipótese nula')\n",
    "  print('Conclusão: Não há evidências suficiente para dizer que o tempo de entrega dos medicamentos é menor que 120 minutos')"
   ]
  },
  {
   "cell_type": "markdown",
   "metadata": {},
   "source": [
    "# 6.0 Defeitos na empresa\n",
    "Uma empresa quer melhorar a qualidade dos produtos reduzindo os defeitos e monitorando a eficiência das linhas de montagem. A linha de montagem A, havia 18 defeitos relatados de 200 amostras selecionadas aleatoriamente, enquanto 25 defeitos de 600 amostras foram relatadas na linha de montagem B.\n",
    "\n",
    "Há uma diferença entre as linhas de produção em um nível de significância de 0.05?"
   ]
  },
  {
   "cell_type": "markdown",
   "metadata": {},
   "source": [
    "H0: pa = pb - A proporção do erro é igual para as duas linhas de montagem<br>\n",
    "H1: pa <> pb - A proporção do erro é diferente para as duas linhas de montagem"
   ]
  },
  {
   "cell_type": "code",
   "execution_count": 14,
   "metadata": {},
   "outputs": [
    {
     "name": "stdout",
     "output_type": "stream",
     "text": [
      "P-value: 0.008669375420073044\n",
      "Rejeita a hipótese nula\n",
      "Conclusão: Há evidência suficiente de que a proporção do erro é diferente para as duas linhas de montagem\n"
     ]
    }
   ],
   "source": [
    "#Two Proportion Z-Test\n",
    "bult_sucess_A,bult_sample_A = 18,200\n",
    "bult_sucess_B,bult_sample_B = 25,600\n",
    "\n",
    "sucess = np.array([bult_sucess_A,bult_sucess_B])\n",
    "samples = np.array([bult_sample_A,bult_sample_B])\n",
    "\n",
    "zscore,pvalue = proportions_ztest(count=sucess, nobs=samples, alternative='two-sided')\n",
    "print(f'P-value: {pvalue}')\n",
    "\n",
    "if pvalue <= 0.05:\n",
    "  print('Rejeita a hipótese nula')\n",
    "  print('Conclusão: Há evidência suficiente de que a proporção do erro é diferente para as duas linhas de montagem')\n",
    "else:\n",
    "  print('Falha em rejeitar a hipótese nula')\n",
    "  print('Conclusão: Não há evidência suficiente de que a proporção do erro é diferente para as duas linhas de montagem')"
   ]
  },
  {
   "attachments": {
    "image.png": {
     "image/png": "[encoded data removed]"
    }
   },
   "cell_type": "markdown",
   "metadata": {},
   "source": [
    "# 7.0 Nível de Educação\n",
    "Pesquisadores gostariam de saber se o estado civil está associado com o nível de educação. Para isso, eles entrevistaram 300 pessoas aleatoriamente e obtiveram os seguintes resultados:\n",
    "\n",
    "![image.png](attachment:image.png)"
   ]
  },
  {
   "cell_type": "markdown",
   "metadata": {},
   "source": [
    "H0: Não há dependência entre o estado civil e o nível de escolaridade<br>\n",
    "H1: Há uma dependência entre o estado civil e o nível de escolaridade"
   ]
  },
  {
   "cell_type": "code",
   "execution_count": 15,
   "metadata": {},
   "outputs": [
    {
     "name": "stdout",
     "output_type": "stream",
     "text": [
      "P-value: 1.1357109599633353e-05\n",
      "Rejeita a hipótese nula\n",
      "Conclusão: Há evidências suficiente para dizer que há uma dependência ou relação entre o estado civil e o nível de escolaridade\n"
     ]
    }
   ],
   "source": [
    "#Chi-Squared Test of Independence\n",
    "table = [[20,100,35],[50,80,15]]\n",
    "\n",
    "chi_squared, pvalue, dof, expected = stats.chi2_contingency(table)\n",
    "print(f'P-value: {pvalue}')\n",
    "\n",
    "if pvalue <= 0.05:\n",
    "  print('Rejeita a hipótese nula')\n",
    "  print('Conclusão: Há evidências suficiente para dizer que há uma dependência ou relação entre o estado civil e o nível de escolaridade')\n",
    "else:\n",
    "  print('Falha em rejeitar a hipótese nula')\n",
    "  print('Conclusão: Não há evidências suficiente para dizer que há uma dependência ou relação entre o estado civil e o nível de escolaridade')"
   ]
  },
  {
   "attachments": {
    "image.png": {
     "image/png": "[encoded data removed]"
    }
   },
   "cell_type": "markdown",
   "metadata": {},
   "source": [
    "# 8.0 Dono da Loja\n",
    "O dono da loja afirma que um número igual de clientes visitam a sua loja cada dia da semana. Para testar essa hipótese, um Cientista de Dados registrou um número de clientes que visitaram a loja em uma determinada semana e encontrou os seguinte números:\n",
    "\n",
    "![image.png](attachment:image.png)\n",
    "\n",
    "Os dados são consistentes com a afirmação do dono da loja?"
   ]
  },
  {
   "cell_type": "markdown",
   "metadata": {},
   "source": [
    "H0: O número de visitantes da loja é igual em todos os dias da semana<br>\n",
    "H1: O número de visitantes da loja não é igual em todos os dias da semana"
   ]
  },
  {
   "cell_type": "code",
   "execution_count": 16,
   "metadata": {},
   "outputs": [
    {
     "name": "stdout",
     "output_type": "stream",
     "text": [
      "P-value: 0.3594720674366307\n",
      "Falha em rejeitar a hipótese nula\n",
      "Conclusão: Não há evidências suficiente que o número de visitantes da loja não é igual em todos dias\n"
     ]
    }
   ],
   "source": [
    "#Chi-Squared Goodness of fit\n",
    "observed = [50,60,40,47,53]\n",
    "expected = [50,50,50,50,50]\n",
    "\n",
    "chiscore, pvalue = stats.chisquare(f_obs=observed, f_exp=expected)\n",
    "print(f'P-value: {pvalue}')\n",
    "\n",
    "if pvalue <= 0.05:\n",
    "  print('Rejeita a hipótese nula')\n",
    "  print('Conclusão: Há evidências suficiente que o número de visitantes da loja não é igual em todos dias')\n",
    "else:\n",
    "  print('Falha em rejeitar a hipótese nula')\n",
    "  print('Conclusão: Não há evidências suficiente que o número de visitantes da loja não é igual em todos dias')"
   ]
  },
  {
   "cell_type": "markdown",
   "metadata": {},
   "source": [
    "# 9.0 Método de estudo\n",
    "Professores de uma universidade desenvolveram 3 tipos de métodos de aprendizagem: Método Cíclico, Método Linear e Método Pirâmide, para ajudar a performance dos alunos em um importante exame.\n",
    "\n",
    "Para testar se os três diferentes tipos de aprendizagem impactam na performance dos estudantes, os professores atribuíram aleatoriamente 30 estudantes para aprender um dos métodos de aprendizagem, durante as 3 semanas de preparação.\n",
    "\n",
    "Todos os estudantes realizaram o mesmo teste e os resultados das suas pontuações são mostrados abaixo:\n",
    "\n",
    "Determine se a pontuação média é a mesma para todos os 3 grupos."
   ]
  },
  {
   "cell_type": "markdown",
   "metadata": {},
   "source": [
    "H0: Não há uma diferença significatica da pontuação média entre os três grupos<br>\n",
    "H1: Há uma diferença significatica da pontuação média entre os três grupos"
   ]
  },
  {
   "cell_type": "code",
   "execution_count": 5,
   "metadata": {},
   "outputs": [
    {
     "name": "stdout",
     "output_type": "stream",
     "text": [
      "P-value: 0.11384795345837219\n",
      "Falha em rejeitar a hipótese nula\n",
      "Conclusão: Não há evidências suficiente que há uma diferença de pontuação média entre os três grupos\n"
     ]
    }
   ],
   "source": [
    "#One-Way ANOVA\n",
    "grupo_ciclico = [85, 86, 88, 75, 78, 94, 98, 79, 71, 80]\n",
    "group_linear = [91, 92, 93, 85, 87, 84, 82, 88, 95, 96]\n",
    "group_pirâmide = [79, 78, 88, 94, 92, 85, 83, 85, 82, 81]\n",
    "\n",
    "fscore,pvalue = f_oneway(grupo_ciclico,group_linear,group_pirâmide)\n",
    "print(f'P-value: {pvalue}')\n",
    "\n",
    "if pvalue <= 0.05:\n",
    "  print('Rejeita a hipótese nula')\n",
    "  print('Conclusão: Há evidências suficiente que há uma diferença de pontuação média entre os três grupos')\n",
    "else:\n",
    "  print('Falha em rejeitar a hipótese nula')\n",
    "  print('Conclusão: Não há evidências suficiente que há uma diferença de pontuação média entre os três grupos')"
   ]
  },
  {
   "cell_type": "markdown",
   "metadata": {},
   "source": [
    "## Premissa #1 - As Variâncias das Amostras são iguais"
   ]
  },
  {
   "cell_type": "code",
   "execution_count": 43,
   "metadata": {},
   "outputs": [
    {
     "data": {
      "image/png": "[encoded data removed]",
      "text/plain": [
       "<Figure size 640x480 with 1 Axes>"
      ]
     },
     "metadata": {},
     "output_type": "display_data"
    }
   ],
   "source": [
    "#Boxplot\n",
    "df_ciclico = pd.DataFrame({'metodo': ['ciclico' for i in range(len(grupo_ciclico))],'value':grupo_ciclico})\n",
    "df_linear = pd.DataFrame({'metodo': ['linear' for i in range(len(group_linear))],'value':group_linear})\n",
    "df_piramine = pd.DataFrame({'metodo': ['piramine' for i in range(len(group_pirâmide))],'value':group_pirâmide})\n",
    "\n",
    "df = pd.concat([df_ciclico,df_linear,df_piramine])\n",
    "\n",
    "sns.boxplot(x='metodo',y='value',data=df);"
   ]
  },
  {
   "cell_type": "markdown",
   "metadata": {},
   "source": [
    "H0: A variância é igual para todas as amostras<br>\n",
    "H1: A viariância não é igual para todas as amostras"
   ]
  },
  {
   "cell_type": "code",
   "execution_count": 25,
   "metadata": {},
   "outputs": [
    {
     "name": "stdout",
     "output_type": "stream",
     "text": [
      "P-value: 0.19181598314035977\n",
      "Falha em rejeitar a hipótese nula\n",
      "Conclusão: Não há evidências suficiente de que as variâncias não são iguais para todas as amostras, assumimos a variância igual\n",
      "Não viola a premissa\n"
     ]
    }
   ],
   "source": [
    "#Bartlett's Test\n",
    "score,pvalue = bartlett(grupo_ciclico,group_linear,group_pirâmide)\n",
    "print(f'P-value: {pvalue}')\n",
    "\n",
    "if pvalue <= 0.05:\n",
    "  print('Rejeita a hipótese nula')\n",
    "  print('Conclusão: Há evidências suficiente de que as variâncias não são iguais para todas as amostras')\n",
    "  print('Viola a premissa')\n",
    "else:\n",
    "  print('Falha em rejeitar a hipótese nula')\n",
    "  print('Conclusão: Não há evidências suficiente de que as variâncias não são iguais para todas as amostras, assumimos a variância igual')\n",
    "  print('Não viola a premissa')"
   ]
  },
  {
   "cell_type": "markdown",
   "metadata": {},
   "source": [
    "## Premissa #2 - Normalidade"
   ]
  },
  {
   "cell_type": "markdown",
   "metadata": {},
   "source": [
    "H0: A população das 3 amostras é normalmente distribuídos<br>\n",
    "H1: A população das 3 amostras não é normalmente distribuídos"
   ]
  },
  {
   "cell_type": "code",
   "execution_count": 24,
   "metadata": {},
   "outputs": [
    {
     "name": "stdout",
     "output_type": "stream",
     "text": [
      "P-value: 0.8451909254938095\n",
      "Falha em rejeitar a hipótese nula\n",
      "Conclusão: Não há evidências suficiente de que a população não é normalmente distribuída, assumimos a normalidade\n",
      "Não viola a premissa\n"
     ]
    }
   ],
   "source": [
    "#Conjunto de dados apresenta normalidad\n",
    "score,pvalue = shapiro(df['value'])\n",
    "print(f'P-value: {pvalue}')\n",
    "\n",
    "if pvalue <= 0.05:\n",
    "  print('Rejeita a hipótese nula')\n",
    "  print('Conclusão: Há evidências suficiente de que a população não é normalmente distribuída')\n",
    "  print('Viola a premissa')\n",
    "else:\n",
    "  print('Falha em rejeitar a hipótese nula')\n",
    "  print('Conclusão: Não há evidências suficiente de que a população não é normalmente distribuída, assumimos a normalidade')\n",
    "  print('Não viola a premissa')"
   ]
  },
  {
   "cell_type": "code",
   "execution_count": 42,
   "metadata": {},
   "outputs": [
    {
     "data": {
      "image/png": "[encoded data removed]",
      "text/plain": [
       "<Figure size 500x500 with 1 Axes>"
      ]
     },
     "metadata": {},
     "output_type": "display_data"
    }
   ],
   "source": [
    "#Histograma\n",
    "sns.displot(df['value'],kde=True,bins=13);"
   ]
  },
  {
   "cell_type": "code",
   "execution_count": 41,
   "metadata": {},
   "outputs": [
    {
     "data": {
      "image/png": "[encoded data removed]",
      "text/plain": [
       "<Figure size 640x480 with 1 Axes>"
      ]
     },
     "metadata": {},
     "output_type": "display_data"
    }
   ],
   "source": [
    "#Q-Q Plot\n",
    "data_points_1 = np.random.normal(0,1,100)\n",
    "data_points_2 = df['value']\n",
    "\n",
    "sm.qqplot(data_points_2,line='45',fit=True)\n",
    "py.show()"
   ]
  },
  {
   "cell_type": "markdown",
   "metadata": {},
   "source": [
    "1. Premissa de Normalidade satisfeita<br>\n",
    "2. Premissa de Variância satisfeita<br>\n",
    "3. Premissa de Indpendência safisteita"
   ]
  },
  {
   "cell_type": "markdown",
   "metadata": {},
   "source": [
    "## Kruskal_Wallis Test - Para violação das premissas"
   ]
  },
  {
   "cell_type": "markdown",
   "metadata": {},
   "source": [
    "H0: Não há uma diferença significatica da pontuação mediana entre os três grupos<br>\n",
    "H1: Há uma diferença significatica da pontuação mediana entre os três grupos"
   ]
  },
  {
   "cell_type": "code",
   "execution_count": 46,
   "metadata": {},
   "outputs": [
    {
     "name": "stdout",
     "output_type": "stream",
     "text": [
      "P-value: 0.11876377341727391\n",
      "Falha em rejeitar a hipótese nula\n",
      "Conclusão: Não há evidências suficiente que há uma diferença de pontuação média entre os três grupos\n"
     ]
    }
   ],
   "source": [
    "score,pvalue = kruskal(grupo_ciclico,group_linear,group_pirâmide)\n",
    "print(f'P-value: {pvalue}')\n",
    "\n",
    "if pvalue <= 0.05:\n",
    "  print('Rejeita a hipótese nula')\n",
    "  print('Conclusão: Há evidências suficiente que há uma diferença de pontuação média entre os três grupos')\n",
    "else:\n",
    "  print('Falha em rejeitar a hipótese nula')\n",
    "  print('Conclusão: Não há evidências suficiente que há uma diferença de pontuação média entre os três grupos')"
   ]
  },
  {
   "attachments": {
    "image.png": {
     "image/png": "[encoded data removed]"
    }
   },
   "cell_type": "markdown",
   "metadata": {},
   "source": [
    "# 10.0 Campanha de Marketing\n",
    "Um Cientista de Dados alocado dentro do departamento de Marketing, recebe a missão de entender se o formato dos anúncios e o nível de investimento em diferentes campanhas influenciam a métrica de CTR ( Click-Through Rate ) do anúncio.\n",
    "\n",
    "O Cientista de Dados pediu ao time de Marketing que criassem 40 campanhas com diferentes combinações de nível de investimento e formato do anúncio.\n",
    "\n",
    "Depois de 7 dias, o Cientista de Dados coletou os resultados do CTR médio de cada campanha. Os resultados são mostrados abaixo:\n",
    "\n",
    "![image.png](attachment:image.png)"
   ]
  },
  {
   "cell_type": "markdown",
   "metadata": {},
   "source": [
    "H0: Não há uma diferença significativa do CTR entre os 3 grupos<br>\n",
    "H1: Há há uma diferença significativa do CTR entre os 3 grupos"
   ]
  },
  {
   "cell_type": "code",
   "execution_count": 63,
   "metadata": {},
   "outputs": [
    {
     "name": "stdout",
     "output_type": "stream",
     "text": [
      "formato:p-value:0.9759749658574458\n",
      "investimento:p-value:3.898088297042028e-08\n",
      "investimento + formato:p-value:0.31089772240901203\n",
      "Rejeita a hipótese nula\n",
      "Conclusão: Há evidências suficiente que há uma diferença significativa no CTR entre os grupos\n",
      "A variável investimento apresenta significância para explicar essa diferença\n"
     ]
    },
    {
     "name": "stderr",
     "output_type": "stream",
     "text": [
      "C:\\Users\\ian-g\\AppData\\Local\\Temp\\ipykernel_4924\\3111400210.py:36: FutureWarning: Series.__getitem__ treating keys as positions is deprecated. In a future version, integer keys will always be treated as labels (consistent with DataFrame behavior). To access a value by position, use `ser.iloc[pos]`\n",
      "  print('formato:p-value:{}'.format(infos['PR(>F)'][0]))\n",
      "C:\\Users\\ian-g\\AppData\\Local\\Temp\\ipykernel_4924\\3111400210.py:37: FutureWarning: Series.__getitem__ treating keys as positions is deprecated. In a future version, integer keys will always be treated as labels (consistent with DataFrame behavior). To access a value by position, use `ser.iloc[pos]`\n",
      "  print('investimento:p-value:{}'.format(infos['PR(>F)'][1])) #única variável que tem uma significância que consegue ajudar a explicar os valores do ctr\n",
      "C:\\Users\\ian-g\\AppData\\Local\\Temp\\ipykernel_4924\\3111400210.py:38: FutureWarning: Series.__getitem__ treating keys as positions is deprecated. In a future version, integer keys will always be treated as labels (consistent with DataFrame behavior). To access a value by position, use `ser.iloc[pos]`\n",
      "  print('investimento + formato:p-value:{}'.format(infos['PR(>F)'][2]))\n",
      "C:\\Users\\ian-g\\AppData\\Local\\Temp\\ipykernel_4924\\3111400210.py:40: FutureWarning: Series.__getitem__ treating keys as positions is deprecated. In a future version, integer keys will always be treated as labels (consistent with DataFrame behavior). To access a value by position, use `ser.iloc[pos]`\n",
      "  if (infos['PR(>F)'][0] <= 0.05) | (infos['PR(>F)'][1] <= 0.05) | (infos['PR(>F)'][2] <= 0.05):\n",
      "C:\\Users\\ian-g\\AppData\\Local\\Temp\\ipykernel_4924\\3111400210.py:43: FutureWarning: Series.__getitem__ treating keys as positions is deprecated. In a future version, integer keys will always be treated as labels (consistent with DataFrame behavior). To access a value by position, use `ser.iloc[pos]`\n",
      "  if infos['PR(>F)'][0] <= 0.05:\n",
      "C:\\Users\\ian-g\\AppData\\Local\\Temp\\ipykernel_4924\\3111400210.py:45: FutureWarning: Series.__getitem__ treating keys as positions is deprecated. In a future version, integer keys will always be treated as labels (consistent with DataFrame behavior). To access a value by position, use `ser.iloc[pos]`\n",
      "  elif infos['PR(>F)'][1] <= 0.05:\n"
     ]
    }
   ],
   "source": [
    "#Two-Way ANOVA\n",
    "# Dados ajustados para refletir a estrutura correta\n",
    "data = {\n",
    "    \"formato\": [\"Vídeo\", \"Vídeo\", \"Vídeo\", \"Vídeo\", \"Vídeo\", \n",
    "                \"Imagem\", \"Imagem\", \"Imagem\", \"Imagem\", \"Imagem\",\n",
    "                \"Vídeo\", \"Vídeo\", \"Vídeo\", \"Vídeo\", \"Vídeo\", \n",
    "                \"Imagem\", \"Imagem\", \"Imagem\", \"Imagem\", \"Imagem\",\n",
    "                \"Vídeo\", \"Vídeo\", \"Vídeo\", \"Vídeo\", \"Vídeo\", \n",
    "                \"Imagem\", \"Imagem\", \"Imagem\", \"Imagem\", \"Imagem\",\n",
    "                \"Vídeo\", \"Vídeo\", \"Vídeo\", \"Vídeo\", \"Vídeo\", \n",
    "                \"Imagem\", \"Imagem\", \"Imagem\", \"Imagem\", \"Imagem\"],\n",
    "    \"investimento\": [\"Nenhum\", \"Nenhum\", \"Nenhum\", \"Nenhum\", \"Nenhum\", \n",
    "                     \"Nenhum\", \"Nenhum\", \"Nenhum\", \"Nenhum\", \"Nenhum\",\n",
    "                     \"Baixo\", \"Baixo\", \"Baixo\", \"Baixo\", \"Baixo\",\n",
    "                     \"Baixo\", \"Baixo\", \"Baixo\", \"Baixo\", \"Baixo\",\n",
    "                     \"Médio\", \"Médio\", \"Médio\", \"Médio\", \"Médio\",\n",
    "                     \"Médio\", \"Médio\", \"Médio\", \"Médio\", \"Médio\",\n",
    "                     \"Alto\", \"Alto\", \"Alto\", \"Alto\", \"Alto\",\n",
    "                     \"Alto\", \"Alto\", \"Alto\", \"Alto\", \"Alto\"],\n",
    "    \"ctr\": [4.8, 4.4, 3.2, 3.9, 4.4, \n",
    "             4.4, 4.2, 3.8, 3.7, 3.9,\n",
    "             5.0, 5.2, 5.6, 4.3, 4.8, \n",
    "             4.9, 5.3, 5.7, 5.4, 4.8,\n",
    "             6.4, 6.2, 4.7, 5.5, 5.8, \n",
    "             5.8, 6.2, 6.3, 6.5, 5.5,\n",
    "             6.3, 6.4, 5.6, 4.8, 5.8, \n",
    "             6.0, 4.9, 4.6, 5.6, 5.5]\n",
    "}\n",
    "\n",
    "# Criando o DataFrame\n",
    "df = pd.DataFrame(data)\n",
    "\n",
    "#Rodar uma regressão antes do anova\n",
    "model = ols('ctr ~ C(formato) + C(investimento) + C(formato):C(investimento)',data=df).fit()\n",
    "infos = sm.stats.anova_lm(model,typ=2)\n",
    "print('formato:p-value:{}'.format(infos['PR(>F)'][0]))\n",
    "print('investimento:p-value:{}'.format(infos['PR(>F)'][1])) #única variável que tem uma significância que consegue ajudar a explicar os valores do ctr\n",
    "print('investimento + formato:p-value:{}'.format(infos['PR(>F)'][2]))\n",
    "\n",
    "if (infos['PR(>F)'][0] <= 0.05) | (infos['PR(>F)'][1] <= 0.05) | (infos['PR(>F)'][2] <= 0.05):\n",
    "  print('Rejeita a hipótese nula')\n",
    "  print('Conclusão: Há evidências suficiente que há uma diferença significativa no CTR entre os grupos')\n",
    "  if infos['PR(>F)'][0] <= 0.05:\n",
    "    print('A variável formato apresenta significância para explicar essa diferença')\n",
    "  elif infos['PR(>F)'][1] <= 0.05:\n",
    "    print('A variável investimento apresenta significância para explicar essa diferença')\n",
    "  elif infos['PR(>F)'][2] <= 0.05:\n",
    "    print('A combinação das variáveis investimento e formato apresenta significância para explicar essa diferença')\n",
    "else:\n",
    "  print('Falha em rejeitar a hipótese nula')\n",
    "  print('Conclusão: Não há evidências suficiente que há uma diferença significativa no CTR entre os grupos')"
   ]
  }
 ],
 "metadata": {
  "kernelspec": {
   "display_name": "a_b",
   "language": "python",
   "name": "python3"
  },
  "language_info": {
   "codemirror_mode": {
    "name": "ipython",
    "version": 3
   },
   "file_extension": ".py",
   "mimetype": "text/x-python",
   "name": "python",
   "nbconvert_exporter": "python",
   "pygments_lexer": "ipython3",
   "version": "3.10.11"
  }
 },
 "nbformat": 4,
 "nbformat_minor": 2
}
