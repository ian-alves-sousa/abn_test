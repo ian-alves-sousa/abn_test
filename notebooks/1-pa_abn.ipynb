{
 "cells": [
  {
   "cell_type": "markdown",
   "metadata": {},
   "source": [
    "# A/B/n Testing Course"
   ]
  },
  {
   "cell_type": "markdown",
   "metadata": {},
   "source": [
    "## 0.1 Imposts"
   ]
  },
  {
   "cell_type": "code",
   "execution_count": 39,
   "metadata": {},
   "outputs": [],
   "source": [
    "import pandas as pd\n",
    "import numpy as np\n",
    "import math\n",
    "from statsmodels.stats import api as sms\n",
    "from statsmodels.stats.gof import chisquare_effectsize\n",
    "from statsmodels.stats.power import GofChisquarePower,TTestIndPower\n",
    "from scipy.stats import chi2_contingency\n",
    "from itertools import combinations\n",
    "from statsmodels.sandbox.stats.multicomp import multipletests"
   ]
  },
  {
   "cell_type": "markdown",
   "metadata": {},
   "source": [
    "# 1.0 Load Data"
   ]
  },
  {
   "cell_type": "code",
   "execution_count": 11,
   "metadata": {},
   "outputs": [
    {
     "data": {
      "text/html": [
       "<div>\n",
       "<style scoped>\n",
       "    .dataframe tbody tr th:only-of-type {\n",
       "        vertical-align: middle;\n",
       "    }\n",
       "\n",
       "    .dataframe tbody tr th {\n",
       "        vertical-align: top;\n",
       "    }\n",
       "\n",
       "    .dataframe thead th {\n",
       "        text-align: right;\n",
       "    }\n",
       "</style>\n",
       "<table border=\"1\" class=\"dataframe\">\n",
       "  <thead>\n",
       "    <tr style=\"text-align: right;\">\n",
       "      <th></th>\n",
       "      <th>variant</th>\n",
       "      <th>visits</th>\n",
       "      <th>clicks_all</th>\n",
       "      <th>clicks_link</th>\n",
       "      <th>conversion</th>\n",
       "    </tr>\n",
       "  </thead>\n",
       "  <tbody>\n",
       "    <tr>\n",
       "      <th>0</th>\n",
       "      <td>interect</td>\n",
       "      <td>10283</td>\n",
       "      <td>3714</td>\n",
       "      <td>42</td>\n",
       "      <td>0.011309</td>\n",
       "    </tr>\n",
       "    <tr>\n",
       "      <th>1</th>\n",
       "      <td>connect</td>\n",
       "      <td>2742</td>\n",
       "      <td>1587</td>\n",
       "      <td>53</td>\n",
       "      <td>0.033396</td>\n",
       "    </tr>\n",
       "    <tr>\n",
       "      <th>2</th>\n",
       "      <td>learn</td>\n",
       "      <td>2747</td>\n",
       "      <td>1652</td>\n",
       "      <td>21</td>\n",
       "      <td>0.012712</td>\n",
       "    </tr>\n",
       "    <tr>\n",
       "      <th>3</th>\n",
       "      <td>help</td>\n",
       "      <td>3180</td>\n",
       "      <td>1717</td>\n",
       "      <td>38</td>\n",
       "      <td>0.022132</td>\n",
       "    </tr>\n",
       "    <tr>\n",
       "      <th>4</th>\n",
       "      <td>sevices</td>\n",
       "      <td>2064</td>\n",
       "      <td>1348</td>\n",
       "      <td>45</td>\n",
       "      <td>0.033383</td>\n",
       "    </tr>\n",
       "  </tbody>\n",
       "</table>\n",
       "</div>"
      ],
      "text/plain": [
       "    variant  visits  clicks_all  clicks_link  conversion\n",
       "0  interect   10283        3714           42    0.011309\n",
       "1   connect    2742        1587           53    0.033396\n",
       "2     learn    2747        1652           21    0.012712\n",
       "3      help    3180        1717           38    0.022132\n",
       "4   sevices    2064        1348           45    0.033383"
      ]
     },
     "execution_count": 11,
     "metadata": {},
     "output_type": "execute_result"
    }
   ],
   "source": [
    "d = {\n",
    "  'variant': ['interect','connect','learn','help','sevices'],\n",
    "  'visits': [10283,2742,2747,3180,2064],\n",
    "  'clicks_all': [3714,1587,1652,1717,1348],\n",
    "  'clicks_link': [42,53,21,38,45]\n",
    "}\n",
    "\n",
    "#controle: interect\n",
    "\n",
    "data = pd.DataFrame(d)\n",
    "data['conversion'] = data['clicks_link'] / data['clicks_all']\n",
    "data"
   ]
  },
  {
   "cell_type": "markdown",
   "metadata": {},
   "source": [
    "# 2.0 Design de Experimentos"
   ]
  },
  {
   "cell_type": "markdown",
   "metadata": {},
   "source": [
    "## 2.1 Formação das Hipóteses"
   ]
  },
  {
   "cell_type": "markdown",
   "metadata": {},
   "source": [
    "H0: Não há nenhuma diferença entre o CTR das variantes da página<br>\n",
    "H1: Há diferença entre os CTR das variantes da página\n",
    "\n",
    "Teste Bi-Caudal"
   ]
  },
  {
   "cell_type": "markdown",
   "metadata": {},
   "source": [
    "## 2.2 Parâmetros do experimentos"
   ]
  },
  {
   "cell_type": "code",
   "execution_count": 12,
   "metadata": {},
   "outputs": [
    {
     "data": {
      "text/plain": [
       "0.2665685871331627"
      ]
     },
     "execution_count": 12,
     "metadata": {},
     "output_type": "execute_result"
    }
   ],
   "source": [
    "#nível de confiança\n",
    "confidence_level = 0.95\n",
    "\n",
    "#nível de significancia\n",
    "significance_level = 1 - confidence_level\n",
    "\n",
    "#poder estatístico\n",
    "power = 0.8\n",
    "\n",
    "k = len(data['clicks_all'])\n",
    "\n",
    "actual_dist = data['clicks_link'] / data['clicks_link'].sum()\n",
    "expected_dist = [1/k] * k #distribuição se todas as páginas fossem iguais, distribuição igualitária\n",
    "effect_size = chisquare_effectsize(expected_dist,actual_dist) #Efeito que espero observar na configuração que eu tenho\n",
    "effect_size"
   ]
  },
  {
   "cell_type": "markdown",
   "metadata": {},
   "source": [
    "Chi-Squared: Teste de inferência estatística para detectar independência ou ajuste entre duas variáveis categóricas:\n",
    "  - Chi Square: Good of Fitness -> Inferir a distância entre a distribuição da amostra e a distribuição da população\n",
    "  - Chi Square: Teste de independência -> Inferir se existe uma relação ou dependência entre 2 variáveis categóricas"
   ]
  },
  {
   "cell_type": "code",
   "execution_count": 14,
   "metadata": {},
   "outputs": [
    {
     "name": "stdout",
     "output_type": "stream",
     "text": [
      "O tamanho da amostra de cada grupo controle é de 222.\n",
      "O tamanho total da amostra é de 1110.\n"
     ]
    }
   ],
   "source": [
    "#sample size - Tamanho da amostra\n",
    "sample_n = TTestIndPower().solve_power(\n",
    "  effect_size=effect_size,\n",
    "  power=power,\n",
    "  alpha=significance_level\n",
    ")\n",
    "\n",
    "sample_n = math.ceil(sample_n)\n",
    "print(f'O tamanho da amostra de cada grupo controle é de {sample_n}.')\n",
    "print(f'O tamanho total da amostra é de {sample_n*5}.')"
   ]
  },
  {
   "cell_type": "markdown",
   "metadata": {},
   "source": [
    "# 3.0 Aplicação do Teste de Chi Squared"
   ]
  },
  {
   "cell_type": "code",
   "execution_count": 18,
   "metadata": {},
   "outputs": [
    {
     "data": {
      "text/html": [
       "<div>\n",
       "<style scoped>\n",
       "    .dataframe tbody tr th:only-of-type {\n",
       "        vertical-align: middle;\n",
       "    }\n",
       "\n",
       "    .dataframe tbody tr th {\n",
       "        vertical-align: top;\n",
       "    }\n",
       "\n",
       "    .dataframe thead th {\n",
       "        text-align: right;\n",
       "    }\n",
       "</style>\n",
       "<table border=\"1\" class=\"dataframe\">\n",
       "  <thead>\n",
       "    <tr style=\"text-align: right;\">\n",
       "      <th></th>\n",
       "      <th>clicks_link</th>\n",
       "      <th>no_clicks_link</th>\n",
       "    </tr>\n",
       "    <tr>\n",
       "      <th>variant</th>\n",
       "      <th></th>\n",
       "      <th></th>\n",
       "    </tr>\n",
       "  </thead>\n",
       "  <tbody>\n",
       "    <tr>\n",
       "      <th>interect</th>\n",
       "      <td>42</td>\n",
       "      <td>3672</td>\n",
       "    </tr>\n",
       "    <tr>\n",
       "      <th>connect</th>\n",
       "      <td>53</td>\n",
       "      <td>1534</td>\n",
       "    </tr>\n",
       "    <tr>\n",
       "      <th>learn</th>\n",
       "      <td>21</td>\n",
       "      <td>1631</td>\n",
       "    </tr>\n",
       "    <tr>\n",
       "      <th>help</th>\n",
       "      <td>38</td>\n",
       "      <td>1679</td>\n",
       "    </tr>\n",
       "    <tr>\n",
       "      <th>sevices</th>\n",
       "      <td>45</td>\n",
       "      <td>1303</td>\n",
       "    </tr>\n",
       "  </tbody>\n",
       "</table>\n",
       "</div>"
      ],
      "text/plain": [
       "          clicks_link  no_clicks_link\n",
       "variant                              \n",
       "interect           42            3672\n",
       "connect            53            1534\n",
       "learn              21            1631\n",
       "help               38            1679\n",
       "sevices            45            1303"
      ]
     },
     "execution_count": 18,
     "metadata": {},
     "output_type": "execute_result"
    }
   ],
   "source": [
    "data['no_clicks_link'] = data['clicks_all'] - data['clicks_link']\n",
    "df = data[['variant','clicks_link','no_clicks_link']]\n",
    "df = df.set_index('variant')\n",
    "df"
   ]
  },
  {
   "cell_type": "code",
   "execution_count": 28,
   "metadata": {},
   "outputs": [
    {
     "name": "stdout",
     "output_type": "stream",
     "text": [
      "p-value:2.0959498129984567e-09\n",
      "Rejeita a hipótese nula, existe uma diferença entre as variantes\n"
     ]
    }
   ],
   "source": [
    "chi_val,pval,dof,expected = chi2_contingency(df)\n",
    "print(f'p-value:{pval}')\n",
    "\n",
    "if pval < significance_level:\n",
    "  print(f'Rejeita a hipótese nula, existe uma diferença entre as variantes')\n",
    "else:\n",
    "  print(f'Falha em rejeitar a hipótese nula, NÃO existe uma diferença entre as variantes')"
   ]
  },
  {
   "cell_type": "markdown",
   "metadata": {},
   "source": [
    "# 4.0 Post-hoc Testing"
   ]
  },
  {
   "cell_type": "code",
   "execution_count": 54,
   "metadata": {},
   "outputs": [],
   "source": [
    "all_combinations = list(combinations(df.index,2)) #criando uma lista de para par\n",
    "p_values = []\n",
    "for comb in all_combinations:\n",
    "  new_df = df[(df.index == comb[0]) | (df.index == comb[1])]\n",
    "  chi_val,pval,dof,expected = chi2_contingency(new_df)\n",
    "  p_values.append(pval)\n",
    "\n",
    "# Correction of Bonferroni\n",
    "reject_list,correct_p_values = multipletests(p_values,method='bonferroni')[:2]"
   ]
  },
  {
   "cell_type": "code",
   "execution_count": 55,
   "metadata": {},
   "outputs": [
    {
     "name": "stdout",
     "output_type": "stream",
     "text": [
      "\n",
      "('interect', 'connect'): p_value: 5.3676772349808135e-08, correted_p_value: 5.367677234980813e-07, Reject: True\n",
      "\n",
      "('interect', 'learn'): p_value: 0.7616980743361713, correted_p_value: 0.8463311937068569, Reject: False\n",
      "\n",
      "('interect', 'help'): p_value: 0.0031030587017400212, correted_p_value: 0.0062061174034800425, Reject: True\n",
      "\n",
      "('interect', 'sevices'): p_value: 1.798089447385411e-07, correted_p_value: 8.990447236927055e-07, Reject: True\n",
      "\n",
      "('connect', 'learn'): p_value: 0.00013292868361715983, correted_p_value: 0.0004430956120571994, Reject: True\n",
      "\n",
      "('connect', 'help'): p_value: 0.06144184057612575, correted_p_value: 0.08777405796589394, Reject: False\n",
      "\n",
      "('connect', 'sevices'): p_value: 1.0, correted_p_value: 1.0, Reject: False\n",
      "\n",
      "('learn', 'help'): p_value: 0.0508958228881819, correted_p_value: 0.08482637148030317, Reject: False\n",
      "\n",
      "('learn', 'sevices'): p_value: 0.00020374035733741825, correted_p_value: 0.0005093508933435456, Reject: True\n",
      "\n",
      "('help', 'sevices'): p_value: 0.07301998638337415, correted_p_value: 0.09127498297921768, Reject: False\n"
     ]
    }
   ],
   "source": [
    "for comb, p_val, corr_p_val, reject in zip(all_combinations,p_values,correct_p_values,reject_list):\n",
    "  print(f'\\n{comb}: p_value: {p_val}, correted_p_value: {corr_p_val}, Reject: {reject}')"
   ]
  },
  {
   "cell_type": "markdown",
   "metadata": {},
   "source": [
    "'interect', 'connect' -> Há uma relação, diferença -> p_value = 5.367677234980813e-07 <br>\n",
    "'interect', 'sevices' -> Há uma relação, diferença -> p_value = 1.7980894473854111e-06 <br>\n",
    "'interect', 'help' -> Há uma relação, diferença -> p_value = 0.03103058701740021 <br>\n",
    "\n",
    "'connect', 'help' -> Não há uma relação, diferença <br>\n",
    "'connect', 'sevices' -> Não há uma relação, diferença <br>\n",
    "'help', 'sevices' -> Não há uma relação, diferença <br>\n",
    "Não há diferença entre essas variáveis"
   ]
  },
  {
   "cell_type": "code",
   "execution_count": null,
   "metadata": {},
   "outputs": [],
   "source": [
    "# One Sample T-Test \n",
    "# Two Sample T-Test \n",
    "\n",
    "# One Sample Z-Test \n",
    "# Two Sample Z-Test \n",
    "\n",
    "# Chi Squared: Goodness of Fit \n",
    "# Chi Squared: Independence Test \n",
    "\n",
    "# One Sample ANOVA \n",
    "# Two Sample ANOVA \n",
    "\n",
    "# 2 variantes = T Test (n > 30)\n",
    "# 2 variantes = Z Test (n < 30)\n",
    "\n",
    "# categorica x caterorica = ANOVA \n",
    "# catetogica x numerica = T-Test \n",
    "\n",
    "# 3 ou mais variantes = ANOVA"
   ]
  }
 ],
 "metadata": {
  "kernelspec": {
   "display_name": "a_b",
   "language": "python",
   "name": "python3"
  },
  "language_info": {
   "codemirror_mode": {
    "name": "ipython",
    "version": 3
   },
   "file_extension": ".py",
   "mimetype": "text/x-python",
   "name": "python",
   "nbconvert_exporter": "python",
   "pygments_lexer": "ipython3",
   "version": "3.10.11"
  }
 },
 "nbformat": 4,
 "nbformat_minor": 2
}
